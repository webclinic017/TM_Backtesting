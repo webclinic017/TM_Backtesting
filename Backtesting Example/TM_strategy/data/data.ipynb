{
 "cells": [
  {
   "cell_type": "code",
   "execution_count": 1,
   "metadata": {},
   "outputs": [],
   "source": [
    "import pandas as pd\n",
    "dat1 = pd.read_csv('BTC_1d.csv')\n",
    "dat2 = pd.read_csv('TM_strategyEMA.csv')\n",
    "dat1 = dat1.iloc[:,:4]\n",
    "dat2.merge(dat1, left_on='date', right_on='time').drop('time',axis = 1).to_csv('TM_strategyEMA2.csv',index = False)"
   ]
  }
 ],
 "metadata": {
  "interpreter": {
   "hash": "ee555494bfc4e1ff3a9b469507e5da942a7e9710dfdae619b574fced27c1054c"
  },
  "kernelspec": {
   "display_name": "Python 3.9.12 ('TMbt')",
   "language": "python",
   "name": "python3"
  },
  "language_info": {
   "codemirror_mode": {
    "name": "ipython",
    "version": 3
   },
   "file_extension": ".py",
   "mimetype": "text/x-python",
   "name": "python",
   "nbconvert_exporter": "python",
   "pygments_lexer": "ipython3",
   "version": "3.9.12"
  },
  "orig_nbformat": 4
 },
 "nbformat": 4,
 "nbformat_minor": 2
}
